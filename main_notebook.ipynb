{
 "cells": [
  {
   "cell_type": "code",
   "execution_count": null,
   "metadata": {},
   "outputs": [],
   "source": [
    "import preamble.dataset_maker as dm\n",
    "\n",
    "path_originals_links = input(\"Enter path of links for original songs (see README.md):\") \n",
    "path_versions_links  = input(\"Enter path of links for versions songs (see README.md):\")\n",
    "\n",
    "data_originals = dm.read_csv_and_transform(path_originals_links)\n",
    "data_versions  = dm.read_csv_and_transform(path_versions_links)\n",
    "\n",
    "for audio in data_originals:\n",
    "    dm.download_audio_youtube(audio, \"originals\")\n",
    "\n",
    "for audio in data_versions:\n",
    "    dm.download_audio_youtube(audio, \"versions\")"
   ]
  },
  {
   "cell_type": "code",
   "execution_count": null,
   "metadata": {},
   "outputs": [],
   "source": [
    "import preamble.aux as a\n",
    "\n",
    "originals_path = input(\"Enter path of original:\")\n",
    "versions_path  = input(\"Enter path of versions:\")\n",
    "\n",
    "results = a.tester(originals_path, versions_path)\n",
    "\n",
    "for key, dict_results in results.items():\n",
    "    a.dict_results_to_plot(dict_results, key)"
   ]
  },
  {
   "cell_type": "code",
   "execution_count": null,
   "metadata": {},
   "outputs": [],
   "source": [
    "for key, dict_results in results.items():\n",
    "    print(\"Song: \",key,\"---------------------------------\")\n",
    "    # a.best_cases_display(dict_results, versions_path)\n",
    "    a.best_cases_display(dict_results,\"versions/\")"
   ]
  }
 ],
 "metadata": {
  "kernelspec": {
   "display_name": "Python 3",
   "language": "python",
   "name": "python3"
  },
  "language_info": {
   "codemirror_mode": {
    "name": "ipython",
    "version": 3
   },
   "file_extension": ".py",
   "mimetype": "text/x-python",
   "name": "python",
   "nbconvert_exporter": "python",
   "pygments_lexer": "ipython3",
   "version": "3.10.12"
  }
 },
 "nbformat": 4,
 "nbformat_minor": 2
}
